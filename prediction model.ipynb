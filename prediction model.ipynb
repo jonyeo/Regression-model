{
 "cells": [
  {
   "cell_type": "code",
   "execution_count": 1,
   "metadata": {},
   "outputs": [
    {
     "data": {
      "text/plain": [
       "['.ipynb_checkpoints',\n",
       " 'prediction model.ipynb',\n",
       " 'student-mat(test).xlsx',\n",
       " 'student-mat(train).xlsx']"
      ]
     },
     "execution_count": 1,
     "metadata": {},
     "output_type": "execute_result"
    }
   ],
   "source": [
    "import os\n",
    "os.listdir()"
   ]
  },
  {
   "cell_type": "code",
   "execution_count": 2,
   "metadata": {},
   "outputs": [
    {
     "name": "stdout",
     "output_type": "stream",
     "text": [
      "    school sex  age address famsize Pstatus  Medu  Fedu      Mjob      Fjob  \\\n",
      "0       GP   F   18       U     GT3       A     4     4   at_home   teacher   \n",
      "1       GP   F   17       U     GT3       T     1     1   at_home     other   \n",
      "2       GP   F   15       U     LE3       T     1     1   at_home     other   \n",
      "3       GP   F   15       U     GT3       T     4     2    health  services   \n",
      "4       GP   F   16       U     GT3       T     3     3     other     other   \n",
      "..     ...  ..  ...     ...     ...     ...   ...   ...       ...       ...   \n",
      "390     MS   M   20       U     LE3       A     2     2  services  services   \n",
      "391     MS   M   17       U     LE3       T     3     1  services  services   \n",
      "392     MS   M   21       R     GT3       T     1     1     other     other   \n",
      "393     MS   M   18       R     LE3       T     3     2  services     other   \n",
      "394     MS   M   19       U     LE3       T     1     1     other   at_home   \n",
      "\n",
      "     ... famrel freetime  goout  Dalc  Walc health absences  G1  G2  G3  \n",
      "0    ...      4        3      4     1     1      3        6   5   6   6  \n",
      "1    ...      5        3      3     1     1      3        4   5   5   6  \n",
      "2    ...      4        3      2     2     3      3       10   7   8  10  \n",
      "3    ...      3        2      2     1     1      5        2  15  14  15  \n",
      "4    ...      4        3      2     1     2      5        4   6  10  10  \n",
      "..   ...    ...      ...    ...   ...   ...    ...      ...  ..  ..  ..  \n",
      "390  ...      5        5      4     4     5      4       11   9   9   9  \n",
      "391  ...      2        4      5     3     4      2        3  14  16  16  \n",
      "392  ...      5        5      3     3     3      3        3  10   8   7  \n",
      "393  ...      4        4      1     3     4      5        0  11  12  10  \n",
      "394  ...      3        2      3     3     3      5        5   8   9   9  \n",
      "\n",
      "[395 rows x 33 columns]\n"
     ]
    }
   ],
   "source": [
    "import pandas as pd\n",
    "mathTrain = pd.read_excel('student-mat(train).xlsx',index_col =None)\n",
    "print(mathTrain)"
   ]
  },
  {
   "cell_type": "code",
   "execution_count": 3,
   "metadata": {},
   "outputs": [],
   "source": [
    "mathtypes={\"GP\":0,\"MS\":1,\n",
    "           \"F\":0,\"M\":1,\n",
    "           \"U\":0,\"R\":1,\n",
    "           \"LE3\":0,\"GT3\":1,\n",
    "          \"T\":0,\"A\":1,\n",
    "          \"teacher\":0,\"health\":1,\"services\":2,\"at_home\":3,\"other\":4,\n",
    "          \"home\":0,\"reputation\":1,\"course\":2,\"other\":3,\n",
    "          \"mother\":0,\"father\":1,\"other\":2,\n",
    "          \"yes\":0,\"no\":1}\n",
    "mathNew=mathTrain.replace(mathtypes)"
   ]
  },
  {
   "cell_type": "code",
   "execution_count": 4,
   "metadata": {},
   "outputs": [
    {
     "data": {
      "text/plain": [
       "0     6\n",
       "1     6\n",
       "2    10\n",
       "3    15\n",
       "4    10\n",
       "Name: G3, dtype: int64"
      ]
     },
     "execution_count": 4,
     "metadata": {},
     "output_type": "execute_result"
    }
   ],
   "source": [
    "determiners=[\"school\",\"sex\",\"age\",\"address\",\"famsize\",\"Pstatus\",\"Medu\",\"Fedu\",\"Mjob\",\"Fjob\",\"reason\",\"guardian\",\"traveltime\",\"studytime\",\"failures\",\"schoolsup\",\"famsup\",\"paid\",\"activities\",\"nursery\",\"higher\",\"internet\",\"romantic\",\"famrel\",\"freetime\",\"goout\",\"Dalc\",\"Walc\",\"health\",\"absences\",\"G1\",\"G2\"]\n",
    "x=mathNew[determiners]\n",
    "y=mathNew.G3\n",
    "x.head()\n",
    "y.head()"
   ]
  },
  {
   "cell_type": "code",
   "execution_count": 5,
   "metadata": {},
   "outputs": [],
   "source": [
    "#regression\n",
    "from sklearn import *\n",
    "model = tree.DecisionTreeRegressor(random_state=2020)"
   ]
  },
  {
   "cell_type": "code",
   "execution_count": 6,
   "metadata": {},
   "outputs": [
    {
     "name": "stdout",
     "output_type": "stream",
     "text": [
      " X training split:  276 ;X test split:  119  y training split:  276 ;y test split:  119\n"
     ]
    },
    {
     "data": {
      "text/plain": [
       "0.7726947556289778"
      ]
     },
     "execution_count": 6,
     "metadata": {},
     "output_type": "execute_result"
    }
   ],
   "source": [
    "Xtrain,Xvalid,ytrain,yvalid=model_selection.train_test_split(x,y,test_size=0.3)\n",
    "print(\" X training split: \", len(Xtrain), \";X test split: \", len(Xvalid),\n",
    "     \" y training split: \", len(Xtrain), \";y test split: \", len(Xvalid))\n",
    "model.fit(Xtrain, ytrain)\n",
    "model.score(Xvalid, yvalid)"
   ]
  },
  {
   "cell_type": "code",
   "execution_count": 11,
   "metadata": {},
   "outputs": [],
   "source": [
    "#prediction\n",
    "mathTest = pd.read_excel('student-mat(test).xlsx',index_col =None)\n",
    "mathtypes={\"GP\":0,\"MS\":1,\n",
    "           \"F\":0,\"M\":1,\n",
    "           \"U\":0,\"R\":1,\n",
    "           \"LE3\":0,\"GT3\":1,\n",
    "          \"T\":0,\"A\":1,\n",
    "          \"teacher\":0,\"health\":1,\"services\":2,\"at_home\":3,\"other\":4,\n",
    "          \"home\":0,\"reputation\":1,\"course\":2,\"other\":3,\n",
    "          \"mother\":0,\"father\":1,\"other\":2,\n",
    "          \"yes\":0,\"no\":1}\n",
    "mathTester = mathTest.replace(mathtypes)\n",
    "del mathTester['G3']"
   ]
  },
  {
   "cell_type": "code",
   "execution_count": 12,
   "metadata": {},
   "outputs": [
    {
     "data": {
      "text/html": [
       "<div>\n",
       "<style scoped>\n",
       "    .dataframe tbody tr th:only-of-type {\n",
       "        vertical-align: middle;\n",
       "    }\n",
       "\n",
       "    .dataframe tbody tr th {\n",
       "        vertical-align: top;\n",
       "    }\n",
       "\n",
       "    .dataframe thead th {\n",
       "        text-align: right;\n",
       "    }\n",
       "</style>\n",
       "<table border=\"1\" class=\"dataframe\">\n",
       "  <thead>\n",
       "    <tr style=\"text-align: right;\">\n",
       "      <th></th>\n",
       "      <th>school</th>\n",
       "      <th>sex</th>\n",
       "      <th>age</th>\n",
       "      <th>address</th>\n",
       "      <th>famsize</th>\n",
       "      <th>Pstatus</th>\n",
       "      <th>Medu</th>\n",
       "      <th>Fedu</th>\n",
       "      <th>Mjob</th>\n",
       "      <th>Fjob</th>\n",
       "      <th>...</th>\n",
       "      <th>romantic</th>\n",
       "      <th>famrel</th>\n",
       "      <th>freetime</th>\n",
       "      <th>goout</th>\n",
       "      <th>Dalc</th>\n",
       "      <th>Walc</th>\n",
       "      <th>health</th>\n",
       "      <th>absences</th>\n",
       "      <th>G1</th>\n",
       "      <th>G2</th>\n",
       "    </tr>\n",
       "  </thead>\n",
       "  <tbody>\n",
       "    <tr>\n",
       "      <th>0</th>\n",
       "      <td>0</td>\n",
       "      <td>0</td>\n",
       "      <td>18</td>\n",
       "      <td>0</td>\n",
       "      <td>1</td>\n",
       "      <td>1</td>\n",
       "      <td>4</td>\n",
       "      <td>4</td>\n",
       "      <td>3</td>\n",
       "      <td>0</td>\n",
       "      <td>...</td>\n",
       "      <td>1</td>\n",
       "      <td>4</td>\n",
       "      <td>3</td>\n",
       "      <td>4</td>\n",
       "      <td>1</td>\n",
       "      <td>1</td>\n",
       "      <td>3</td>\n",
       "      <td>6</td>\n",
       "      <td>5</td>\n",
       "      <td>6</td>\n",
       "    </tr>\n",
       "    <tr>\n",
       "      <th>1</th>\n",
       "      <td>0</td>\n",
       "      <td>0</td>\n",
       "      <td>17</td>\n",
       "      <td>0</td>\n",
       "      <td>1</td>\n",
       "      <td>0</td>\n",
       "      <td>1</td>\n",
       "      <td>1</td>\n",
       "      <td>3</td>\n",
       "      <td>2</td>\n",
       "      <td>...</td>\n",
       "      <td>1</td>\n",
       "      <td>5</td>\n",
       "      <td>3</td>\n",
       "      <td>3</td>\n",
       "      <td>1</td>\n",
       "      <td>1</td>\n",
       "      <td>3</td>\n",
       "      <td>4</td>\n",
       "      <td>5</td>\n",
       "      <td>5</td>\n",
       "    </tr>\n",
       "    <tr>\n",
       "      <th>2</th>\n",
       "      <td>0</td>\n",
       "      <td>0</td>\n",
       "      <td>15</td>\n",
       "      <td>0</td>\n",
       "      <td>0</td>\n",
       "      <td>0</td>\n",
       "      <td>1</td>\n",
       "      <td>1</td>\n",
       "      <td>3</td>\n",
       "      <td>2</td>\n",
       "      <td>...</td>\n",
       "      <td>1</td>\n",
       "      <td>4</td>\n",
       "      <td>3</td>\n",
       "      <td>2</td>\n",
       "      <td>2</td>\n",
       "      <td>3</td>\n",
       "      <td>3</td>\n",
       "      <td>10</td>\n",
       "      <td>7</td>\n",
       "      <td>8</td>\n",
       "    </tr>\n",
       "    <tr>\n",
       "      <th>3</th>\n",
       "      <td>0</td>\n",
       "      <td>0</td>\n",
       "      <td>15</td>\n",
       "      <td>0</td>\n",
       "      <td>1</td>\n",
       "      <td>0</td>\n",
       "      <td>4</td>\n",
       "      <td>2</td>\n",
       "      <td>1</td>\n",
       "      <td>2</td>\n",
       "      <td>...</td>\n",
       "      <td>0</td>\n",
       "      <td>3</td>\n",
       "      <td>2</td>\n",
       "      <td>2</td>\n",
       "      <td>1</td>\n",
       "      <td>1</td>\n",
       "      <td>5</td>\n",
       "      <td>2</td>\n",
       "      <td>15</td>\n",
       "      <td>14</td>\n",
       "    </tr>\n",
       "    <tr>\n",
       "      <th>4</th>\n",
       "      <td>0</td>\n",
       "      <td>0</td>\n",
       "      <td>16</td>\n",
       "      <td>0</td>\n",
       "      <td>1</td>\n",
       "      <td>0</td>\n",
       "      <td>3</td>\n",
       "      <td>3</td>\n",
       "      <td>2</td>\n",
       "      <td>2</td>\n",
       "      <td>...</td>\n",
       "      <td>1</td>\n",
       "      <td>4</td>\n",
       "      <td>3</td>\n",
       "      <td>2</td>\n",
       "      <td>1</td>\n",
       "      <td>2</td>\n",
       "      <td>5</td>\n",
       "      <td>4</td>\n",
       "      <td>6</td>\n",
       "      <td>10</td>\n",
       "    </tr>\n",
       "  </tbody>\n",
       "</table>\n",
       "<p>5 rows × 32 columns</p>\n",
       "</div>"
      ],
      "text/plain": [
       "   school  sex  age  address  famsize  Pstatus  Medu  Fedu  Mjob  Fjob  ...  \\\n",
       "0       0    0   18        0        1        1     4     4     3     0  ...   \n",
       "1       0    0   17        0        1        0     1     1     3     2  ...   \n",
       "2       0    0   15        0        0        0     1     1     3     2  ...   \n",
       "3       0    0   15        0        1        0     4     2     1     2  ...   \n",
       "4       0    0   16        0        1        0     3     3     2     2  ...   \n",
       "\n",
       "   romantic  famrel  freetime  goout  Dalc  Walc  health  absences  G1  G2  \n",
       "0         1       4         3      4     1     1       3         6   5   6  \n",
       "1         1       5         3      3     1     1       3         4   5   5  \n",
       "2         1       4         3      2     2     3       3        10   7   8  \n",
       "3         0       3         2      2     1     1       5         2  15  14  \n",
       "4         1       4         3      2     1     2       5         4   6  10  \n",
       "\n",
       "[5 rows x 32 columns]"
      ]
     },
     "execution_count": 12,
     "metadata": {},
     "output_type": "execute_result"
    }
   ],
   "source": [
    "mathTester.head()"
   ]
  },
  {
   "cell_type": "code",
   "execution_count": 13,
   "metadata": {},
   "outputs": [
    {
     "name": "stdout",
     "output_type": "stream",
     "text": [
      "Predictions: [ 6.  6. 10. 14. 10. 15. 11.  6. 19. 15.  9. 12. 14. 10. 18. 15. 14. 10.\n",
      "  5. 10. 15. 15. 16. 13.  8.  8. 11. 16. 11. 11. 11. 17. 16. 12. 15.  0.\n",
      " 18. 15. 11. 13. 11. 12. 18. 11.  9.  8. 11. 20. 14.  7. 13. 13. 10. 12.\n",
      " 13. 10. 15. 14.  9. 16. 11. 11.  9.  8. 10. 16. 12.  6.  8. 16. 15. 10.\n",
      "  5. 14. 11. 10. 10. 11.  9.  5. 12. 11.  6. 15. 10.  8.  6. 14. 10.  7.\n",
      "  8. 18.  6. 10. 14. 10. 15. 10. 14.  8.  5. 17. 14.  6. 19.  9.  8. 18.\n",
      " 13. 16. 19. 10. 13. 19.  9. 16. 14. 14.  9. 13. 15. 14. 13. 11.  0. 13.\n",
      " 11.  9.  0. 18.  0.  0. 12. 11.  0.  0.  0.  0. 14. 16.  0.  9. 11. 13.\n",
      "  0. 10.  0. 11.  0. 10.  0. 13. 10.  0. 12.  8. 13. 10. 15. 11.  0.  7.\n",
      "  0. 10.  7. 12. 10. 16.  0. 14.  0. 16. 11.  0.  9.  9. 11.  6.  8. 10.\n",
      "  8. 12. 17. 10. 12. 11. 11. 15.  9. 10. 13.  9. 10. 10. 14. 15. 15. 10.\n",
      " 18. 10. 18. 10. 10.  6. 11.  9.  6. 13. 10.  7.  8. 13. 14.  8. 10. 15.\n",
      "  4.  5.  8. 10.  6.  0. 17. 12. 14.  7. 15. 12.  9. 12. 12. 10.  9. 13.\n",
      "  6. 10. 13. 12. 11.  0. 11. 12.  0. 12.  0. 18. 13.  9.  5. 15.  8. 11.\n",
      "  8.  8. 11.  8. 11.  9. 14.  0. 18.  8. 12.  9. 10. 17.  9. 11. 10.  0.\n",
      "  9. 14. 10. 14. 12. 12.  9.  9.  8. 10.  8. 10. 12. 10.  9. 11. 19. 12.\n",
      " 14. 15. 11. 16. 13. 18. 13. 11.  0.  8. 14. 16. 11. 12. 11. 18. 14. 12.\n",
      " 18.  8. 12. 10.  0. 13. 11. 11. 13. 11.  8.  9. 11. 11. 13.  9. 11. 15.\n",
      " 15. 11. 16. 10.  9. 14.  8. 14.  0.  0.  0. 15. 13.  0. 15. 10. 11. 11.\n",
      " 15.  0. 11. 14. 16. 11. 15. 13.  9. 13.  9.  8. 11.  9. 13. 13. 10. 16.\n",
      " 13. 12. 10. 15. 11. 10. 13.  0. 10. 11.  9. 12. 11.  5. 19. 10. 15. 10.\n",
      " 15. 10. 14.  5. 10.  0.  5. 10.  5.  0.  8.  0.  9. 16.  7. 11.  9.] 395\n"
     ]
    }
   ],
   "source": [
    "yPredictions = model.predict(mathTester) #TODO TODO TODO TODO TODO TODO TODO TODO\n",
    "print(\"Predictions:\", yPredictions, len(yPredictions))"
   ]
  },
  {
   "cell_type": "code",
   "execution_count": 26,
   "metadata": {},
   "outputs": [
    {
     "name": "stdout",
     "output_type": "stream",
     "text": [
      "You predicted 327/395 correctly\n",
      "That is 82.78481012658227% accuracy\n"
     ]
    }
   ],
   "source": [
    "answerSheet = mathTest[\"G3\"].values.tolist()\n",
    "noCorrect =0\n",
    "\n",
    "for x in range(len(answerSheet)):\n",
    "    if yPredictions[x] == answerSheet[x]:\n",
    "        noCorrect+=1\n",
    "    \n",
    "print(\"You predicted \" + str(noCorrect) + \"/\" + str(len(answerSheet)) + \" correctly\")\n",
    "print(\"That is \" + str((noCorrect/len(answerSheet))*100) + \"% accuracy\")"
   ]
  },
  {
   "cell_type": "code",
   "execution_count": null,
   "metadata": {},
   "outputs": [],
   "source": []
  }
 ],
 "metadata": {
  "kernelspec": {
   "display_name": "Python 3",
   "language": "python",
   "name": "python3"
  },
  "language_info": {
   "codemirror_mode": {
    "name": "ipython",
    "version": 3
   },
   "file_extension": ".py",
   "mimetype": "text/x-python",
   "name": "python",
   "nbconvert_exporter": "python",
   "pygments_lexer": "ipython3",
   "version": "3.7.6"
  }
 },
 "nbformat": 4,
 "nbformat_minor": 4
}
